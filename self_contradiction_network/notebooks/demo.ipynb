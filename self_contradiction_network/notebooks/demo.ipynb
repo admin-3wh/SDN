from scn.inference import Inference
from scn.icm import InferenceChainMemory

icm = InferenceChainMemory()
